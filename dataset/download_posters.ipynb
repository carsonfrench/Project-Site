{
 "cells": [
  {
   "cell_type": "code",
   "execution_count": 14,
   "id": "3f3f3c9e",
   "metadata": {},
   "outputs": [
    {
     "name": "stdout",
     "output_type": "stream",
     "text": [
      "Defaulting to user installation because normal site-packages is not writeable\n",
      "Requirement already satisfied: opendatasets in /home/CAMPUS/csaa2019/.local/lib/python3.8/site-packages (0.1.20)\n",
      "Requirement already satisfied: kaggle in /home/CAMPUS/csaa2019/.local/lib/python3.8/site-packages (from opendatasets) (1.5.12)\n",
      "Requirement already satisfied: click in /opt/mambaforge/envs/cs152/lib/python3.8/site-packages (from opendatasets) (7.1.2)\n",
      "Requirement already satisfied: tqdm in /opt/mambaforge/envs/cs152/lib/python3.8/site-packages (from opendatasets) (4.62.2)\n",
      "Requirement already satisfied: python-dateutil in /opt/mambaforge/envs/cs152/lib/python3.8/site-packages (from kaggle->opendatasets) (2.8.2)\n",
      "Requirement already satisfied: urllib3 in /opt/mambaforge/envs/cs152/lib/python3.8/site-packages (from kaggle->opendatasets) (1.26.6)\n",
      "Requirement already satisfied: python-slugify in /home/CAMPUS/csaa2019/.local/lib/python3.8/site-packages (from kaggle->opendatasets) (5.0.2)\n",
      "Requirement already satisfied: requests in /opt/mambaforge/envs/cs152/lib/python3.8/site-packages (from kaggle->opendatasets) (2.26.0)\n",
      "Requirement already satisfied: certifi in /opt/mambaforge/envs/cs152/lib/python3.8/site-packages (from kaggle->opendatasets) (2021.10.8)\n",
      "Requirement already satisfied: six>=1.10 in /opt/mambaforge/envs/cs152/lib/python3.8/site-packages (from kaggle->opendatasets) (1.16.0)\n",
      "Requirement already satisfied: text-unidecode>=1.3 in /home/CAMPUS/csaa2019/.local/lib/python3.8/site-packages (from python-slugify->kaggle->opendatasets) (1.3)\n",
      "Requirement already satisfied: idna<4,>=2.5 in /opt/mambaforge/envs/cs152/lib/python3.8/site-packages (from requests->kaggle->opendatasets) (3.1)\n",
      "Requirement already satisfied: charset-normalizer~=2.0.0 in /opt/mambaforge/envs/cs152/lib/python3.8/site-packages (from requests->kaggle->opendatasets) (2.0.0)\n"
     ]
    }
   ],
   "source": [
    "import sys\n",
    "sys.path.append('/home/CAMPUS/csaa2019/.local/lib/python3.8/site-packages')\n",
    "\n",
    "!pip install opendatasets\n",
    "import opendatasets as od"
   ]
  },
  {
   "cell_type": "code",
   "execution_count": 15,
   "id": "52357705",
   "metadata": {},
   "outputs": [
    {
     "name": "stdout",
     "output_type": "stream",
     "text": [
      "Please provide your Kaggle credentials to download this dataset. Learn more: http://bit.ly/kaggle-creds\n",
      "Your Kaggle username: csaa2019\n",
      "Your Kaggle Key: ········\n",
      "Downloading movieposter.zip to ./movieposter\n"
     ]
    },
    {
     "name": "stderr",
     "output_type": "stream",
     "text": [
      "100%|████████████████████████████████████████| 838M/838M [00:15<00:00, 58.3MB/s]\n"
     ]
    },
    {
     "name": "stdout",
     "output_type": "stream",
     "text": [
      "\n"
     ]
    }
   ],
   "source": [
    "od.download(\"https://www.kaggle.com/dadajonjurakuziev/movieposter\")"
   ]
  },
  {
   "cell_type": "code",
   "execution_count": null,
   "id": "337373ec",
   "metadata": {},
   "outputs": [],
   "source": []
  }
 ],
 "metadata": {
  "kernelspec": {
   "display_name": "Python 3 (ipykernel)",
   "language": "python",
   "name": "python3"
  },
  "language_info": {
   "codemirror_mode": {
    "name": "ipython",
    "version": 3
   },
   "file_extension": ".py",
   "mimetype": "text/x-python",
   "name": "python",
   "nbconvert_exporter": "python",
   "pygments_lexer": "ipython3",
   "version": "3.8.5"
  }
 },
 "nbformat": 4,
 "nbformat_minor": 5
}
